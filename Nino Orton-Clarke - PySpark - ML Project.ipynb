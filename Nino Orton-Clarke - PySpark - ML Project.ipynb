{
 "cells": [
  {
   "cell_type": "code",
   "execution_count": 17,
   "id": "ebe07972",
   "metadata": {},
   "outputs": [
    {
     "data": {
      "text/plain": [
       "'C:\\\\spark-3.3.1-bin-hadoop2'"
      ]
     },
     "execution_count": 17,
     "metadata": {},
     "output_type": "execute_result"
    }
   ],
   "source": [
    "import findspark\n",
    "findspark.init()\n",
    "findspark.find()"
   ]
  },
  {
   "cell_type": "code",
   "execution_count": 18,
   "id": "b738426f",
   "metadata": {},
   "outputs": [],
   "source": [
    "# importing the packages required\n",
    "import pandas as pd\n",
    "import numpy as np\n",
    "import matplotlib.pyplot as plt\n",
    "import seaborn as sns\n",
    "%matplotlib inline\n",
    "\n",
    "from sklearn.ensemble import RandomForestClassifier\n",
    "from sklearn.metrics import classification_report, confusion_matrix\n",
    "from sklearn.tree import plot_tree\n",
    "from sklearn import tree\n",
    "from sklearn.model_selection import train_test_split\n",
    "\n",
    "from sklearn.metrics import confusion_matrix\n",
    "from sklearn.metrics import f1_score\n",
    "from sklearn.metrics import accuracy_score\n",
    "\n",
    "import os\n",
    "import findspark\n",
    "import py4j\n",
    "from pyspark.sql import SparkSession\n",
    "\n",
    "from pyspark.sql.types import *\n",
    "from pyspark.sql.functions import mean,countDistinct, avg,stddev, col, count, when\n",
    "import pyspark.sql.functions as F\n",
    "\n",
    "from pyspark.ml.feature import VectorAssembler, StandardScaler, StringIndexer, OneHotEncoder, StringIndexer\n",
    "from pyspark.ml.regression import LinearRegression\n",
    "from pyspark.ml.evaluation import RegressionEvaluator\n",
    "from pyspark.ml import Pipeline\n",
    "\n",
    "import pandas as pd\n",
    "import numpy as np\n",
    "import matplotlib.pyplot as plt #for plotting"
   ]
  },
  {
   "cell_type": "code",
   "execution_count": 25,
   "id": "aa640602",
   "metadata": {},
   "outputs": [
    {
     "data": {
      "text/html": [
       "\n",
       "            <div>\n",
       "                <p><b>SparkSession - in-memory</b></p>\n",
       "                \n",
       "        <div>\n",
       "            <p><b>SparkContext</b></p>\n",
       "\n",
       "            <p><a href=\"http://DESKTOP-0D4QIVR.Home:4042\">Spark UI</a></p>\n",
       "\n",
       "            <dl>\n",
       "              <dt>Version</dt>\n",
       "                <dd><code>v3.3.1</code></dd>\n",
       "              <dt>Master</dt>\n",
       "                <dd><code>local[*]</code></dd>\n",
       "              <dt>AppName</dt>\n",
       "                <dd><code>PySpark_Project</code></dd>\n",
       "            </dl>\n",
       "        </div>\n",
       "        \n",
       "            </div>\n",
       "        "
      ],
      "text/plain": [
       "<pyspark.sql.session.SparkSession at 0x22acf712820>"
      ]
     },
     "execution_count": 25,
     "metadata": {},
     "output_type": "execute_result"
    }
   ],
   "source": [
    "spark = SparkSession.builder.appName(\"PySpark_Project\").getOrCreate()\n",
    "spark"
   ]
  },
  {
   "cell_type": "code",
   "execution_count": 26,
   "id": "88b93ff6",
   "metadata": {},
   "outputs": [],
   "source": [
    "rnd_seed= 42\n",
    "np.random.seed=rnd_seed\n",
    "np.random.set_state=rnd_seed"
   ]
  },
  {
   "cell_type": "markdown",
   "id": "c1731b45",
   "metadata": {},
   "source": [
    "# Brain Stroke Dataset"
   ]
  },
  {
   "cell_type": "code",
   "execution_count": 27,
   "id": "5e73c2f8",
   "metadata": {},
   "outputs": [
    {
     "name": "stdout",
     "output_type": "stream",
     "text": [
      "+------+----+------------+-------------+------------+-------------+--------------+-----------------+----+---------------+------+\n",
      "|gender| age|hypertension|heart_disease|ever_married|    work_type|Residence_type|avg_glucose_level| bmi| smoking_status|stroke|\n",
      "+------+----+------------+-------------+------------+-------------+--------------+-----------------+----+---------------+------+\n",
      "|  Male|67.0|           0|            1|         Yes|      Private|         Urban|           228.69|36.6|formerly smoked|     1|\n",
      "|  Male|80.0|           0|            1|         Yes|      Private|         Rural|           105.92|32.5|   never smoked|     1|\n",
      "|Female|49.0|           0|            0|         Yes|      Private|         Urban|           171.23|34.4|         smokes|     1|\n",
      "|Female|79.0|           1|            0|         Yes|Self-employed|         Rural|           174.12|24.0|   never smoked|     1|\n",
      "|  Male|81.0|           0|            0|         Yes|      Private|         Urban|           186.21|29.0|formerly smoked|     1|\n",
      "|  Male|74.0|           1|            1|         Yes|      Private|         Rural|            70.09|27.4|   never smoked|     1|\n",
      "|Female|69.0|           0|            0|          No|      Private|         Urban|            94.39|22.8|   never smoked|     1|\n",
      "|Female|78.0|           0|            0|         Yes|      Private|         Urban|            58.57|24.2|        Unknown|     1|\n",
      "|Female|81.0|           1|            0|         Yes|      Private|         Rural|            80.43|29.7|   never smoked|     1|\n",
      "|Female|61.0|           0|            1|         Yes|     Govt_job|         Rural|           120.46|36.8|         smokes|     1|\n",
      "|Female|54.0|           0|            0|         Yes|      Private|         Urban|           104.51|27.3|         smokes|     1|\n",
      "|Female|79.0|           0|            1|         Yes|      Private|         Urban|           214.09|28.2|   never smoked|     1|\n",
      "|Female|50.0|           1|            0|         Yes|Self-employed|         Rural|           167.41|30.9|   never smoked|     1|\n",
      "|  Male|64.0|           0|            1|         Yes|      Private|         Urban|           191.61|37.5|         smokes|     1|\n",
      "|  Male|75.0|           1|            0|         Yes|      Private|         Urban|           221.29|25.8|         smokes|     1|\n",
      "|Female|60.0|           0|            0|          No|      Private|         Urban|            89.22|37.8|   never smoked|     1|\n",
      "|Female|71.0|           0|            0|         Yes|     Govt_job|         Rural|           193.94|22.4|         smokes|     1|\n",
      "|Female|52.0|           1|            0|         Yes|Self-employed|         Urban|           233.29|48.9|   never smoked|     1|\n",
      "|Female|79.0|           0|            0|         Yes|Self-employed|         Urban|            228.7|26.6|   never smoked|     1|\n",
      "|  Male|82.0|           0|            1|         Yes|      Private|         Rural|            208.3|32.5|        Unknown|     1|\n",
      "+------+----+------------+-------------+------------+-------------+--------------+-----------------+----+---------------+------+\n",
      "only showing top 20 rows\n",
      "\n"
     ]
    }
   ],
   "source": [
    "b_s = spark.read.csv('C:/Users/NinoOrton-Clarke/Python Sandbox/brain_stroke.csv', inferSchema = True, header = True)\n",
    "b_s.show()"
   ]
  },
  {
   "cell_type": "markdown",
   "id": "e71befc1",
   "metadata": {},
   "source": [
    "# EDA"
   ]
  },
  {
   "cell_type": "code",
   "execution_count": 28,
   "id": "4a91e290",
   "metadata": {},
   "outputs": [
    {
     "data": {
      "text/plain": [
       "[Row(gender='Male', age=67.0, hypertension=0, heart_disease=1, ever_married='Yes', work_type='Private', Residence_type='Urban', avg_glucose_level=228.69, bmi=36.6, smoking_status='formerly smoked', stroke=1),\n",
       " Row(gender='Male', age=80.0, hypertension=0, heart_disease=1, ever_married='Yes', work_type='Private', Residence_type='Rural', avg_glucose_level=105.92, bmi=32.5, smoking_status='never smoked', stroke=1),\n",
       " Row(gender='Female', age=49.0, hypertension=0, heart_disease=0, ever_married='Yes', work_type='Private', Residence_type='Urban', avg_glucose_level=171.23, bmi=34.4, smoking_status='smokes', stroke=1),\n",
       " Row(gender='Female', age=79.0, hypertension=1, heart_disease=0, ever_married='Yes', work_type='Self-employed', Residence_type='Rural', avg_glucose_level=174.12, bmi=24.0, smoking_status='never smoked', stroke=1),\n",
       " Row(gender='Male', age=81.0, hypertension=0, heart_disease=0, ever_married='Yes', work_type='Private', Residence_type='Urban', avg_glucose_level=186.21, bmi=29.0, smoking_status='formerly smoked', stroke=1)]"
      ]
     },
     "execution_count": 28,
     "metadata": {},
     "output_type": "execute_result"
    }
   ],
   "source": [
    "# Displays raw data\n",
    "b_s.take(5)"
   ]
  },
  {
   "cell_type": "code",
   "execution_count": 29,
   "id": "cfc6291c",
   "metadata": {},
   "outputs": [
    {
     "name": "stdout",
     "output_type": "stream",
     "text": [
      "+------+----+------------+-------------+------------+---------+--------------+-----------------+----+---------------+------+\n",
      "|gender| age|hypertension|heart_disease|ever_married|work_type|Residence_type|avg_glucose_level| bmi| smoking_status|stroke|\n",
      "+------+----+------------+-------------+------------+---------+--------------+-----------------+----+---------------+------+\n",
      "|  Male|67.0|           0|            1|         Yes|  Private|         Urban|           228.69|36.6|formerly smoked|     1|\n",
      "|  Male|80.0|           0|            1|         Yes|  Private|         Rural|           105.92|32.5|   never smoked|     1|\n",
      "|Female|49.0|           0|            0|         Yes|  Private|         Urban|           171.23|34.4|         smokes|     1|\n",
      "+------+----+------------+-------------+------------+---------+--------------+-----------------+----+---------------+------+\n",
      "only showing top 3 rows\n",
      "\n"
     ]
    }
   ],
   "source": [
    "# Take a look at the data showing only the top 3 rows\n",
    "b_s.show(3)"
   ]
  },
  {
   "cell_type": "code",
   "execution_count": 30,
   "id": "b19d3f3e",
   "metadata": {},
   "outputs": [
    {
     "data": {
      "text/plain": [
       "['gender',\n",
       " 'age',\n",
       " 'hypertension',\n",
       " 'heart_disease',\n",
       " 'ever_married',\n",
       " 'work_type',\n",
       " 'Residence_type',\n",
       " 'avg_glucose_level',\n",
       " 'bmi',\n",
       " 'smoking_status',\n",
       " 'stroke']"
      ]
     },
     "execution_count": 30,
     "metadata": {},
     "output_type": "execute_result"
    }
   ],
   "source": [
    "# Examine column names\n",
    "b_s.columns"
   ]
  },
  {
   "cell_type": "code",
   "execution_count": 31,
   "id": "3e5350c3",
   "metadata": {},
   "outputs": [
    {
     "name": "stdout",
     "output_type": "stream",
     "text": [
      "root\n",
      " |-- gender: string (nullable = true)\n",
      " |-- age: double (nullable = true)\n",
      " |-- hypertension: integer (nullable = true)\n",
      " |-- heart_disease: integer (nullable = true)\n",
      " |-- ever_married: string (nullable = true)\n",
      " |-- work_type: string (nullable = true)\n",
      " |-- Residence_type: string (nullable = true)\n",
      " |-- avg_glucose_level: double (nullable = true)\n",
      " |-- bmi: double (nullable = true)\n",
      " |-- smoking_status: string (nullable = true)\n",
      " |-- stroke: integer (nullable = true)\n",
      "\n"
     ]
    }
   ],
   "source": [
    "# Displays columns and datatypes\n",
    "b_s.printSchema()"
   ]
  },
  {
   "cell_type": "code",
   "execution_count": 32,
   "id": "1f2fafbf",
   "metadata": {},
   "outputs": [
    {
     "data": {
      "text/plain": [
       "[('gender', 'string'),\n",
       " ('age', 'double'),\n",
       " ('hypertension', 'int'),\n",
       " ('heart_disease', 'int'),\n",
       " ('ever_married', 'string'),\n",
       " ('work_type', 'string'),\n",
       " ('Residence_type', 'string'),\n",
       " ('avg_glucose_level', 'double'),\n",
       " ('bmi', 'double'),\n",
       " ('smoking_status', 'string'),\n",
       " ('stroke', 'int')]"
      ]
     },
     "execution_count": 32,
     "metadata": {},
     "output_type": "execute_result"
    }
   ],
   "source": [
    "# displays columns and datatypes in a different format\n",
    "b_s.dtypes"
   ]
  },
  {
   "cell_type": "code",
   "execution_count": 33,
   "id": "271d9bba",
   "metadata": {},
   "outputs": [
    {
     "data": {
      "image/png": "[encoded data removed]",
      "text/plain": [
       "<Figure size 432x288 with 1 Axes>"
      ]
     },
     "metadata": {
      "needs_background": "light"
     },
     "output_type": "display_data"
    },
    {
     "data": {
      "image/png": "[encoded data removed]",
      "text/plain": [
       "<Figure size 432x288 with 1 Axes>"
      ]
     },
     "metadata": {
      "needs_background": "light"
     },
     "output_type": "display_data"
    },
    {
     "data": {
      "image/png": "[encoded data removed]",
      "text/plain": [
       "<Figure size 432x288 with 1 Axes>"
      ]
     },
     "metadata": {
      "needs_background": "light"
     },
     "output_type": "display_data"
    }
   ],
   "source": [
    "# Displaying the distribution of numerical variables with histplots\n",
    "cols = ['Age','bmi','avg_glucose_level']\n",
    "\n",
    "def pyspark_hist(column):\n",
    "    values = []\n",
    "    for age in b_s.select(column).collect():\n",
    "        values.append(age[0])\n",
    "    plt.figure()\n",
    "    plt.title(f'Distribution of {column}')\n",
    "    plt.hist(values)\n",
    "    plt.show()\n",
    "\n",
    "for col in cols:\n",
    "    pyspark_hist(col)"
   ]
  },
  {
   "cell_type": "code",
   "execution_count": 34,
   "id": "9748adde",
   "metadata": {},
   "outputs": [
    {
     "data": {
      "image/png": "[encoded data removed]",
      "text/plain": [
       "<Figure size 432x288 with 1 Axes>"
      ]
     },
     "metadata": {
      "needs_background": "light"
     },
     "output_type": "display_data"
    },
    {
     "data": {
      "image/png": "[encoded data removed]",
      "text/plain": [
       "<Figure size 432x288 with 1 Axes>"
      ]
     },
     "metadata": {
      "needs_background": "light"
     },
     "output_type": "display_data"
    },
    {
     "data": {
      "image/png": "[encoded data removed]",
      "text/plain": [
       "<Figure size 432x288 with 1 Axes>"
      ]
     },
     "metadata": {
      "needs_background": "light"
     },
     "output_type": "display_data"
    },
    {
     "data": {
      "image/png": "[encoded data removed]",
      "text/plain": [
       "<Figure size 432x288 with 1 Axes>"
      ]
     },
     "metadata": {
      "needs_background": "light"
     },
     "output_type": "display_data"
    },
    {
     "data": {
      "image/png": "[encoded data removed]",
      "text/plain": [
       "<Figure size 432x288 with 1 Axes>"
      ]
     },
     "metadata": {
      "needs_background": "light"
     },
     "output_type": "display_data"
    },
    {
     "data": {
      "image/png": "[encoded data removed]",
      "text/plain": [
       "<Figure size 432x288 with 1 Axes>"
      ]
     },
     "metadata": {
      "needs_background": "light"
     },
     "output_type": "display_data"
    },
    {
     "data": {
      "image/png": "[encoded data removed]",
      "text/plain": [
       "<Figure size 432x288 with 1 Axes>"
      ]
     },
     "metadata": {
      "needs_background": "light"
     },
     "output_type": "display_data"
    }
   ],
   "source": [
    "# Visualisation of categorical variables with countplots\n",
    "import seaborn as sns\n",
    "b_s_viz = b_s.toPandas()\n",
    "\n",
    "c_variables = ['gender','hypertension','heart_disease','ever_married','work_type','Residence_type','smoking_status']\n",
    "\n",
    "for i in range(len(c_variables)):\n",
    "    plt.figure\n",
    "    plt.title(c_variables[i])\n",
    "    sns.countplot(data=b_s_viz,x=c_variables[i],hue='stroke',palette='rainbow')\n",
    "    plt.show()"
   ]
  },
  {
   "cell_type": "markdown",
   "id": "500a53c8",
   "metadata": {},
   "source": [
    "# Balancing The Data"
   ]
  },
  {
   "cell_type": "code",
   "execution_count": 35,
   "id": "53fe96ee",
   "metadata": {},
   "outputs": [
    {
     "data": {
      "text/plain": [
       "Text(0, 0.5, 'count')"
      ]
     },
     "execution_count": 35,
     "metadata": {},
     "output_type": "execute_result"
    },
    {
     "data": {
      "image/png": "[encoded data removed]",
      "text/plain": [
       "<Figure size 432x288 with 1 Axes>"
      ]
     },
     "metadata": {
      "needs_background": "light"
     },
     "output_type": "display_data"
    }
   ],
   "source": [
    "# Visualising the balance in the target variable(y)\n",
    "b_s_viz = b_s.toPandas()\n",
    "series = pd.DataFrame(b_s_viz['stroke'].value_counts()).reset_index()\n",
    "plt.figure()\n",
    "sns.barplot(data=series,x='index',y='stroke')\n",
    "plt.title('Unbalanced Data')\n",
    "plt.xlabel('stroke')\n",
    "plt.ylabel('count')"
   ]
  },
  {
   "cell_type": "code",
   "execution_count": 36,
   "id": "aafc1a46",
   "metadata": {},
   "outputs": [],
   "source": [
    "# Splitting data into dataset variables and target variable (X and y) for our model\n",
    "X = b_s_viz.drop('stroke',axis=1)\n",
    "y = b_s_viz['stroke']"
   ]
  },
  {
   "cell_type": "code",
   "execution_count": 37,
   "id": "f9bf2e77",
   "metadata": {},
   "outputs": [
    {
     "name": "stdout",
     "output_type": "stream",
     "text": [
      "496\n"
     ]
    },
    {
     "data": {
      "text/plain": [
       "(array([248.,   0.,   0.,   0.,   0.,   0.,   0.,   0.,   0., 248.]),\n",
       " array([0. , 0.1, 0.2, 0.3, 0.4, 0.5, 0.6, 0.7, 0.8, 0.9, 1. ]),\n",
       " <BarContainer object of 10 artists>)"
      ]
     },
     "execution_count": 37,
     "metadata": {},
     "output_type": "execute_result"
    },
    {
     "data": {
      "image/png": "[encoded data removed]",
      "text/plain": [
       "<Figure size 432x288 with 1 Axes>"
      ]
     },
     "metadata": {
      "needs_background": "light"
     },
     "output_type": "display_data"
    }
   ],
   "source": [
    "from imblearn.under_sampling import RandomUnderSampler \n",
    "undersample = RandomUnderSampler(sampling_strategy = 'majority')\n",
    "X_under, y_under = undersample.fit_resample(X,y)\n",
    "print(len(y_under))\n",
    "plt.hist(y_under)"
   ]
  },
  {
   "cell_type": "code",
   "execution_count": 38,
   "id": "a14d5e24",
   "metadata": {},
   "outputs": [],
   "source": [
    "# Combining the data into a dataset\n",
    "X_under['stroke'] = y_under\n",
    "modeldf = X_under"
   ]
  },
  {
   "cell_type": "code",
   "execution_count": 39,
   "id": "d024468e",
   "metadata": {},
   "outputs": [
    {
     "name": "stdout",
     "output_type": "stream",
     "text": [
      "+------+----+------------+-------------+------------+-------------+--------------+-----------------+----+---------------+------+\n",
      "|gender| age|hypertension|heart_disease|ever_married|    work_type|Residence_type|avg_glucose_level| bmi| smoking_status|stroke|\n",
      "+------+----+------------+-------------+------------+-------------+--------------+-----------------+----+---------------+------+\n",
      "|Female|13.0|           0|            0|          No|     children|         Rural|            88.51|27.7|        Unknown|     0|\n",
      "|Female|1.88|           0|            0|          No|     children|         Rural|           100.74|18.6|        Unknown|     0|\n",
      "|Female|42.0|           0|            0|         Yes|      Private|         Rural|           107.91|20.5|   never smoked|     0|\n",
      "|Female|20.0|           0|            0|          No|      Private|         Rural|           102.42|18.6|   never smoked|     0|\n",
      "|Female|72.0|           1|            1|         Yes|      Private|         Urban|           217.79|26.1|formerly smoked|     0|\n",
      "|  Male|18.0|           0|            0|          No|      Private|         Rural|           143.45|32.0|         smokes|     0|\n",
      "|  Male|13.0|           0|            0|          No|      Private|         Rural|            99.44|21.0|   never smoked|     0|\n",
      "|Female|79.0|           0|            0|          No|      Private|         Urban|           253.86|28.8|formerly smoked|     0|\n",
      "|  Male|61.0|           0|            0|         Yes|      Private|         Urban|           227.98|14.2|        Unknown|     0|\n",
      "|  Male|60.0|           1|            0|         Yes|      Private|         Urban|           197.09|34.3|        Unknown|     0|\n",
      "|  Male|32.0|           0|            0|          No|      Private|         Rural|           100.65|26.2|formerly smoked|     0|\n",
      "|  Male|16.0|           0|            0|          No|      Private|         Urban|             84.1|19.3|        Unknown|     0|\n",
      "|  Male|32.0|           0|            0|         Yes|      Private|         Urban|            64.02|23.8|         smokes|     0|\n",
      "|Female|53.0|           0|            0|         Yes|      Private|         Rural|            60.77|28.7|         smokes|     0|\n",
      "|  Male|18.0|           0|            0|          No|      Private|         Rural|            70.34|24.2|        Unknown|     0|\n",
      "|Female|57.0|           0|            0|          No|Self-employed|         Rural|            72.55|21.0|   never smoked|     0|\n",
      "|Female|62.0|           0|            0|         Yes|      Private|         Urban|            92.99|29.3|formerly smoked|     0|\n",
      "|  Male|62.0|           1|            0|         Yes|      Private|         Urban|           211.49|41.1|        Unknown|     0|\n",
      "|  Male|76.0|           1|            0|         Yes|      Private|         Rural|            267.6|30.5|   never smoked|     0|\n",
      "|Female|33.0|           0|            0|         Yes|      Private|         Urban|            84.48|23.2|formerly smoked|     0|\n",
      "+------+----+------------+-------------+------------+-------------+--------------+-----------------+----+---------------+------+\n",
      "only showing top 20 rows\n",
      "\n"
     ]
    }
   ],
   "source": [
    "# Converting to PySpark\n",
    "modeldf = spark.createDataFrame(modeldf)\n",
    "modeldf.show()"
   ]
  },
  {
   "cell_type": "markdown",
   "id": "1b5731e4",
   "metadata": {},
   "source": [
    "# Label/One Hot Encoding"
   ]
  },
  {
   "cell_type": "code",
   "execution_count": 42,
   "id": "f8a630e9",
   "metadata": {},
   "outputs": [
    {
     "name": "stdout",
     "output_type": "stream",
     "text": [
      "+----+------------+-------------+-----------------+----+------+-----------------+-----------------------+--------------------+-------------------------+-------------------------+\n",
      "| age|hypertension|heart_disease|avg_glucose_level| bmi|stroke|labelIndex_gender|labelIndex_ever_married|labelIndex_work_type|labelIndex_Residence_type|labelIndex_smoking_status|\n",
      "+----+------------+-------------+-----------------+----+------+-----------------+-----------------------+--------------------+-------------------------+-------------------------+\n",
      "|13.0|           0|            0|            88.51|27.7|     0|              0.0|                    1.0|                 3.0|                      1.0|                      1.0|\n",
      "|1.88|           0|            0|           100.74|18.6|     0|              0.0|                    1.0|                 3.0|                      1.0|                      1.0|\n",
      "|42.0|           0|            0|           107.91|20.5|     0|              0.0|                    0.0|                 0.0|                      1.0|                      0.0|\n",
      "|20.0|           0|            0|           102.42|18.6|     0|              0.0|                    1.0|                 0.0|                      1.0|                      0.0|\n",
      "|72.0|           1|            1|           217.79|26.1|     0|              0.0|                    0.0|                 0.0|                      0.0|                      2.0|\n",
      "|18.0|           0|            0|           143.45|32.0|     0|              1.0|                    1.0|                 0.0|                      1.0|                      3.0|\n",
      "|13.0|           0|            0|            99.44|21.0|     0|              1.0|                    1.0|                 0.0|                      1.0|                      0.0|\n",
      "|79.0|           0|            0|           253.86|28.8|     0|              0.0|                    1.0|                 0.0|                      0.0|                      2.0|\n",
      "|61.0|           0|            0|           227.98|14.2|     0|              1.0|                    0.0|                 0.0|                      0.0|                      1.0|\n",
      "|60.0|           1|            0|           197.09|34.3|     0|              1.0|                    0.0|                 0.0|                      0.0|                      1.0|\n",
      "|32.0|           0|            0|           100.65|26.2|     0|              1.0|                    1.0|                 0.0|                      1.0|                      2.0|\n",
      "|16.0|           0|            0|             84.1|19.3|     0|              1.0|                    1.0|                 0.0|                      0.0|                      1.0|\n",
      "|32.0|           0|            0|            64.02|23.8|     0|              1.0|                    0.0|                 0.0|                      0.0|                      3.0|\n",
      "|53.0|           0|            0|            60.77|28.7|     0|              0.0|                    0.0|                 0.0|                      1.0|                      3.0|\n",
      "|18.0|           0|            0|            70.34|24.2|     0|              1.0|                    1.0|                 0.0|                      1.0|                      1.0|\n",
      "|57.0|           0|            0|            72.55|21.0|     0|              0.0|                    1.0|                 1.0|                      1.0|                      0.0|\n",
      "|62.0|           0|            0|            92.99|29.3|     0|              0.0|                    0.0|                 0.0|                      0.0|                      2.0|\n",
      "|62.0|           1|            0|           211.49|41.1|     0|              1.0|                    0.0|                 0.0|                      0.0|                      1.0|\n",
      "|76.0|           1|            0|            267.6|30.5|     0|              1.0|                    0.0|                 0.0|                      1.0|                      0.0|\n",
      "|33.0|           0|            0|            84.48|23.2|     0|              0.0|                    0.0|                 0.0|                      0.0|                      2.0|\n",
      "+----+------------+-------------+-----------------+----+------+-----------------+-----------------------+--------------------+-------------------------+-------------------------+\n",
      "only showing top 20 rows\n",
      "\n"
     ]
    }
   ],
   "source": [
    "variables = ['gender','ever_married','work_type','Residence_type','smoking_status']\n",
    "\n",
    "from pyspark.ml.feature import StringIndexer\n",
    "for var in variables:\n",
    "    label_stringIdx = StringIndexer(inputCol = var, outputCol = f'labelIndex_{var}')\n",
    "    modeldf = label_stringIdx.fit(modeldf).transform(modeldf)\n",
    "    modeldf = modeldf.drop(var)\n",
    "\n",
    "modeldf.show()"
   ]
  },
  {
   "cell_type": "markdown",
   "id": "0dff007b",
   "metadata": {},
   "source": [
    "# Standardising the Data"
   ]
  },
  {
   "cell_type": "code",
   "execution_count": 49,
   "id": "a86cea0e",
   "metadata": {},
   "outputs": [
    {
     "name": "stdout",
     "output_type": "stream",
     "text": [
      "['age', 'hypertension', 'heart_disease', 'avg_glucose_level', 'bmi', 'labelIndex_gender', 'labelIndex_ever_married', 'labelIndex_work_type', 'labelIndex_Residence_type', 'labelIndex_smoking_status', 'features', 'features_scaled']\n",
      "+----+------------+-------------+-----------------+----+------+-----------------+-----------------------+--------------------+-------------------------+-------------------------+--------------------+--------------------+\n",
      "| age|hypertension|heart_disease|avg_glucose_level| bmi|stroke|labelIndex_gender|labelIndex_ever_married|labelIndex_work_type|labelIndex_Residence_type|labelIndex_smoking_status|            features|     features_scaled|\n",
      "+----+------------+-------------+-----------------+----+------+-----------------+-----------------------+--------------------+-------------------------+-------------------------+--------------------+--------------------+\n",
      "|13.0|           0|            0|            88.51|27.7|     0|              0.0|                    1.0|                 3.0|                      1.0|                      1.0|[13.0,0.0,0.0,88....|[0.15771484375,0....|\n",
      "|1.88|           0|            0|           100.74|18.6|     0|              0.0|                    1.0|                 3.0|                      1.0|                      1.0|[1.88,0.0,0.0,100...|[0.02197265624999...|\n",
      "|42.0|           0|            0|           107.91|20.5|     0|              0.0|                    0.0|                 0.0|                      1.0|                      0.0|(10,[0,3,4,8],[42...|(10,[0,3,4,8],[0....|\n",
      "|20.0|           0|            0|           102.42|18.6|     0|              0.0|                    1.0|                 0.0|                      1.0|                      0.0|(10,[0,3,4,6,8],[...|(10,[0,3,4,6,8],[...|\n",
      "|72.0|           1|            1|           217.79|26.1|     0|              0.0|                    0.0|                 0.0|                      0.0|                      2.0|[72.0,1.0,1.0,217...|[0.8779296875,1.0...|\n",
      "+----+------------+-------------+-----------------+----+------+-----------------+-----------------------+--------------------+-------------------------+-------------------------+--------------------+--------------------+\n",
      "only showing top 5 rows\n",
      "\n"
     ]
    }
   ],
   "source": [
    "columns = modeldf.columns\n",
    "del columns[5]\n",
    "print(columns)\n",
    "from pyspark.ml.feature import VectorAssembler\n",
    "from pyspark.ml.feature import VectorAssembler, MinMaxScaler\n",
    "\n",
    "# Preparing data for the model\n",
    "\n",
    "# assembler = VectorAssembler(inputCols=columns, outputCol=\"features\")\n",
    "# modeldf = assembler.transform(modeldf)\n",
    "# modeldf= MinMaxScaler(inputCol=\"features\", outputCol=\"features_scaled\").fit(modeldf).transform(modeldf)\n",
    "modeldf.show(5)\n",
    "# Standardizing the data using Min-max Scaling"
   ]
  },
  {
   "cell_type": "markdown",
   "id": "3b8bfd94",
   "metadata": {},
   "source": [
    "# Splitting The Data"
   ]
  },
  {
   "cell_type": "code",
   "execution_count": 50,
   "id": "1e8e30b0",
   "metadata": {},
   "outputs": [
    {
     "name": "stdout",
     "output_type": "stream",
     "text": [
      "Training Dataset Count: 394\n",
      "Test Dataset Count: 102\n"
     ]
    }
   ],
   "source": [
    "train, test = modeldf.randomSplit([0.8, 0.2], seed = 2018)\n",
    "print(\"Training Dataset Count: \" + str(train.count()))\n",
    "print(\"Test Dataset Count: \" + str(test.count()))"
   ]
  },
  {
   "cell_type": "markdown",
   "id": "202285f4",
   "metadata": {},
   "source": [
    "# Random Forest"
   ]
  },
  {
   "cell_type": "code",
   "execution_count": 51,
   "id": "46435014",
   "metadata": {},
   "outputs": [],
   "source": [
    "from pyspark.ml.classification import RandomForestClassifier\n",
    "rf = RandomForestClassifier(featuresCol = 'features_scaled', labelCol = 'stroke')\n",
    "rf_model = rf.fit(train)\n",
    "pred = rf_model.transform(test)"
   ]
  },
  {
   "cell_type": "code",
   "execution_count": 56,
   "id": "669d857f",
   "metadata": {},
   "outputs": [
    {
     "name": "stdout",
     "output_type": "stream",
     "text": [
      "Accuracy = 0.7718569780853517\n",
      "Test Error = 0.2281430219146483\n"
     ]
    }
   ],
   "source": [
    "\n",
    "from pyspark.ml.evaluation import MulticlassClassificationEvaluator\n",
    "\n",
    "evaluator = MulticlassClassificationEvaluator(labelCol=\"stroke\", predictionCol=\"prediction\")\n",
    "accuracy = evaluator.evaluate(pred)\n",
    "print(f\"Accuracy = {accuracy}\")\n",
    "print(f\"Test Error = {1.0 - accuracy}\")"
   ]
  },
  {
   "cell_type": "markdown",
   "id": "07fc2160",
   "metadata": {},
   "source": [
    "# DTree"
   ]
  },
  {
   "cell_type": "code",
   "execution_count": 58,
   "id": "d84eb73a",
   "metadata": {},
   "outputs": [],
   "source": [
    "from pyspark.ml.classification import DecisionTreeClassifier\n",
    "\n",
    "dt = DecisionTreeClassifier(featuresCol = 'features_scaled', labelCol = 'stroke')\n",
    "dt_model = dt.fit(train)\n",
    "predict = dt_model.transform(test)"
   ]
  },
  {
   "cell_type": "code",
   "execution_count": 59,
   "id": "3a9dee43",
   "metadata": {},
   "outputs": [
    {
     "name": "stdout",
     "output_type": "stream",
     "text": [
      "Accuracy = 0.7445017773191147\n",
      "Test Error = 0.2554982226808853\n"
     ]
    }
   ],
   "source": [
    "# Evaluating the accuracy of the model\n",
    "from pyspark.ml.evaluation import MulticlassClassificationEvaluator\n",
    "\n",
    "evaluator = MulticlassClassificationEvaluator(labelCol=\"stroke\", predictionCol=\"prediction\")\n",
    "accuracy = evaluator.evaluate(predict)\n",
    "print(f\"Accuracy = {accuracy}\")\n",
    "print(f\"Test Error = {1.0 - accuracy}\")"
   ]
  },
  {
   "cell_type": "markdown",
   "id": "7c05d52c",
   "metadata": {},
   "source": [
    "# Airplane Crashes Dataset"
   ]
  },
  {
   "cell_type": "code",
   "execution_count": 60,
   "id": "e32c39c5",
   "metadata": {},
   "outputs": [],
   "source": [
    "from datetime import date, timedelta, datetime"
   ]
  },
  {
   "cell_type": "code",
   "execution_count": 61,
   "id": "9c0c4611",
   "metadata": {},
   "outputs": [
    {
     "name": "stdout",
     "output_type": "stream",
     "text": [
      "+-----+----------+-----+--------------------+--------------------+--------+-------------+--------------------+------------+-----+------+----------+------+--------------------+\n",
      "|index|      Date| Time|            Location|            Operator|Flight #|        Route|                Type|Registration|cn/In|Aboard|Fatalities|Ground|             Summary|\n",
      "+-----+----------+-----+--------------------+--------------------+--------+-------------+--------------------+------------+-----+------+----------+------+--------------------+\n",
      "|    0|09/17/1908|17:18| Fort Myer, Virginia|Military - U.S. Army|    null|Demonstration|    Wright Flyer III|        null|    1|   2.0|       1.0|   0.0|During a demonstr...|\n",
      "|    1|07/12/1912|06:30|AtlantiCity, New ...|Military - U.S. Navy|    null|  Test flight|           Dirigible|        null| null|   5.0|       5.0|   0.0|First U.S. dirigi...|\n",
      "|    2|08/06/1913| null|Victoria, British...|             Private|       -|         null|    Curtiss seaplane|        null| null|   1.0|       1.0|   0.0|The first fatal a...|\n",
      "|    3|09/09/1913|18:30|  Over the North Sea|Military - German...|    null|         null|Zeppelin L-1 (air...|        null| null|  20.0|      14.0|   0.0|The airship flew ...|\n",
      "|    4|10/17/1913|10:30|Near Johannisthal...|Military - German...|    null|         null|Zeppelin L-2 (air...|        null| null|  30.0|      30.0|   0.0|Hydrogen gas whic...|\n",
      "+-----+----------+-----+--------------------+--------------------+--------+-------------+--------------------+------------+-----+------+----------+------+--------------------+\n",
      "only showing top 5 rows\n",
      "\n"
     ]
    }
   ],
   "source": [
    "plane = spark.read.csv(path='Airplane_Crashes_and_Fatalities_Since_1908.csv', inferSchema=True, header=True)\n",
    "plane.show(5)"
   ]
  },
  {
   "cell_type": "markdown",
   "id": "27560deb",
   "metadata": {},
   "source": [
    "# Data Pre-processing"
   ]
  },
  {
   "cell_type": "code",
   "execution_count": 63,
   "id": "936d01df",
   "metadata": {},
   "outputs": [
    {
     "name": "stdout",
     "output_type": "stream",
     "text": [
      "+----------+-----+--------------------+--------------------+--------+-------------+--------------------+------------+-----+------+----------+------+\n",
      "|      Date| Time|            Location|            Operator|Flight #|        Route|                Type|Registration|cn/In|Aboard|Fatalities|Ground|\n",
      "+----------+-----+--------------------+--------------------+--------+-------------+--------------------+------------+-----+------+----------+------+\n",
      "|09/17/1908|17:18| Fort Myer, Virginia|Military - U.S. Army|    null|Demonstration|    Wright Flyer III|        null|    1|   2.0|       1.0|   0.0|\n",
      "|07/12/1912|06:30|AtlantiCity, New ...|Military - U.S. Navy|    null|  Test flight|           Dirigible|        null| null|   5.0|       5.0|   0.0|\n",
      "|08/06/1913| null|Victoria, British...|             Private|       -|         null|    Curtiss seaplane|        null| null|   1.0|       1.0|   0.0|\n",
      "|09/09/1913|18:30|  Over the North Sea|Military - German...|    null|         null|Zeppelin L-1 (air...|        null| null|  20.0|      14.0|   0.0|\n",
      "|10/17/1913|10:30|Near Johannisthal...|Military - German...|    null|         null|Zeppelin L-2 (air...|        null| null|  30.0|      30.0|   0.0|\n",
      "+----------+-----+--------------------+--------------------+--------+-------------+--------------------+------------+-----+------+----------+------+\n",
      "only showing top 5 rows\n",
      "\n"
     ]
    }
   ],
   "source": [
    "# Dropping irrelevant columns\n",
    "plane = plane.drop('index','Summary')\n",
    "plane.show(5)"
   ]
  },
  {
   "cell_type": "markdown",
   "id": "0e1c35ba",
   "metadata": {},
   "source": [
    "# Checking for null data"
   ]
  },
  {
   "cell_type": "code",
   "execution_count": 67,
   "id": "62f1deaf",
   "metadata": {},
   "outputs": [
    {
     "name": "stdout",
     "output_type": "stream",
     "text": [
      "+----+----+--------+--------+--------+-----+----+------------+-----+------+----------+------+\n",
      "|Date|Time|Location|Operator|Flight #|Route|Type|Registration|cn/In|Aboard|Fatalities|Ground|\n",
      "+----+----+--------+--------+--------+-----+----+------------+-----+------+----------+------+\n",
      "|   0|2219|      20|      18|    4199| 1706|  27|         335| 1228|    22|        12|    22|\n",
      "+----+----+--------+--------+--------+-----+----+------------+-----+------+----------+------+\n",
      "\n",
      "Length of the data set is 5268\n"
     ]
    }
   ],
   "source": [
    "from pyspark.sql.functions import col,isnan, when, count\n",
    "\n",
    "plane.select([count(when(isnan(c) | col(c).isNull(), c)).alias(c) for c in plane.columns]\n",
    "   ).show()\n",
    "\n",
    "print(f'Length of the data set is {plane.count()}')"
   ]
  },
  {
   "cell_type": "code",
   "execution_count": 68,
   "id": "7c5bece0",
   "metadata": {},
   "outputs": [],
   "source": [
    "# Dropping the 'Flight #' column\n",
    "plane = plane.drop('Flight #')"
   ]
  },
  {
   "cell_type": "code",
   "execution_count": 70,
   "id": "5562120d",
   "metadata": {},
   "outputs": [
    {
     "name": "stdout",
     "output_type": "stream",
     "text": [
      "The number of unique entries in cn/In is: 3708\n",
      "The number of unique entries in Registration is: 4906\n",
      "The number of unique entries in Route is: 3245\n",
      "The number of unique entries in Location is: 4304\n"
     ]
    }
   ],
   "source": [
    "# Analysing unique values\n",
    "columns = ['cn/In','Registration','Route','Location']\n",
    "\n",
    "for col in columns:\n",
    "    print(f'The number of unique entries in {col} is: {plane.select(col).distinct().count()}')"
   ]
  },
  {
   "cell_type": "code",
   "execution_count": 72,
   "id": "7fcd02bf",
   "metadata": {},
   "outputs": [
    {
     "name": "stdout",
     "output_type": "stream",
     "text": [
      "+----------+-----+--------------------+--------------------+------+----------+------+\n",
      "|      Date| Time|            Operator|                Type|Aboard|Fatalities|Ground|\n",
      "+----------+-----+--------------------+--------------------+------+----------+------+\n",
      "|09/17/1908|17:18|Military - U.S. Army|    Wright Flyer III|   2.0|       1.0|   0.0|\n",
      "|07/12/1912|06:30|Military - U.S. Navy|           Dirigible|   5.0|       5.0|   0.0|\n",
      "|08/06/1913| null|             Private|    Curtiss seaplane|   1.0|       1.0|   0.0|\n",
      "|09/09/1913|18:30|Military - German...|Zeppelin L-1 (air...|  20.0|      14.0|   0.0|\n",
      "|10/17/1913|10:30|Military - German...|Zeppelin L-2 (air...|  30.0|      30.0|   0.0|\n",
      "+----------+-----+--------------------+--------------------+------+----------+------+\n",
      "only showing top 5 rows\n",
      "\n"
     ]
    }
   ],
   "source": [
    "for col in columns:\n",
    "    plane = plane.drop(col)\n",
    "plane.show(5)"
   ]
  },
  {
   "cell_type": "markdown",
   "id": "bea486c2",
   "metadata": {},
   "source": [
    "# Manipulating the Date Column"
   ]
  },
  {
   "cell_type": "code",
   "execution_count": 74,
   "id": "12448036",
   "metadata": {},
   "outputs": [
    {
     "name": "stdout",
     "output_type": "stream",
     "text": [
      "+--------------------+--------------------+------+----------+------+-----+----+\n",
      "|            Operator|                Type|Aboard|Fatalities|Ground|Month|Year|\n",
      "+--------------------+--------------------+------+----------+------+-----+----+\n",
      "|Military - U.S. Army|    Wright Flyer III|   2.0|       1.0|   0.0|    9|1908|\n",
      "|Military - U.S. Navy|           Dirigible|   5.0|       5.0|   0.0|    7|1912|\n",
      "|             Private|    Curtiss seaplane|   1.0|       1.0|   0.0|    8|1913|\n",
      "|Military - German...|Zeppelin L-1 (air...|  20.0|      14.0|   0.0|    9|1913|\n",
      "|Military - German...|Zeppelin L-2 (air...|  30.0|      30.0|   0.0|   10|1913|\n",
      "+--------------------+--------------------+------+----------+------+-----+----+\n",
      "only showing top 5 rows\n",
      "\n"
     ]
    }
   ],
   "source": [
    "plane_date = plane.toPandas()\n",
    "\n",
    "# Changing the date column to a datetime variable\n",
    "plane_date['Date'] =  pd.to_datetime(plane_date['Date'])\n",
    "\n",
    "# Extracting the month\n",
    "plane_date['Month'] = pd.DatetimeIndex(plane_date['Date']).month\n",
    "# Extracting the year\n",
    "plane_date['Year'] = pd.DatetimeIndex(plane_date['Date']).year\n",
    "\n",
    "\n",
    "plane_date = plane_date.drop(['Date','Time'],axis = 1)\n",
    "plane = spark.createDataFrame(plane_date)\n",
    "\n",
    "plane.show(5)"
   ]
  },
  {
   "cell_type": "markdown",
   "id": "a70d113f",
   "metadata": {},
   "source": [
    "# Checking for Nulls Again"
   ]
  },
  {
   "cell_type": "code",
   "execution_count": 76,
   "id": "bfb4cacc",
   "metadata": {},
   "outputs": [
    {
     "name": "stdout",
     "output_type": "stream",
     "text": [
      "+--------+----+------+----------+------+-----+----+\n",
      "|Operator|Type|Aboard|Fatalities|Ground|Month|Year|\n",
      "+--------+----+------+----------+------+-----+----+\n",
      "|      18|  27|    22|        12|    22|    0|   0|\n",
      "+--------+----+------+----------+------+-----+----+\n",
      "\n"
     ]
    }
   ],
   "source": [
    "from pyspark.sql.functions import col,isnan, when, count\n",
    "\n",
    "plane.select([count(when(isnan(c) | col(c).isNull(), c)).alias(c) for c in plane.columns]\n",
    "   ).show()"
   ]
  },
  {
   "cell_type": "markdown",
   "id": "99f192dd",
   "metadata": {},
   "source": [
    "# Removing Leftover Nulls"
   ]
  },
  {
   "cell_type": "code",
   "execution_count": 79,
   "id": "ab976b71",
   "metadata": {},
   "outputs": [
    {
     "name": "stdout",
     "output_type": "stream",
     "text": [
      "+--------+----+------+----------+------+-----+----+\n",
      "|Operator|Type|Aboard|Fatalities|Ground|Month|Year|\n",
      "+--------+----+------+----------+------+-----+----+\n",
      "|       0|   0|     0|         0|     0|    0|   0|\n",
      "+--------+----+------+----------+------+-----+----+\n",
      "\n"
     ]
    }
   ],
   "source": [
    "plane = plane.na.drop(subset=['Operator','Type','Aboard','Fatalities','Ground'])\n",
    "\n",
    "\n",
    "from pyspark.sql.functions import col,isnan, when, count\n",
    "# Check the nulls one more time\n",
    "plane.select([count(when(isnan(c) | col(c).isNull(), c)).alias(c) for c in plane.columns]).show()"
   ]
  },
  {
   "cell_type": "markdown",
   "id": "2b3f8a38",
   "metadata": {},
   "source": [
    "# Label/One Hot Encoding"
   ]
  },
  {
   "cell_type": "code",
   "execution_count": 82,
   "id": "e1f298b4",
   "metadata": {},
   "outputs": [
    {
     "name": "stdout",
     "output_type": "stream",
     "text": [
      "+--------+----+------+----------+------+-----+----+\n",
      "|Operator|Type|Aboard|Fatalities|Ground|Month|Year|\n",
      "+--------+----+------+----------+------+-----+----+\n",
      "|       0|   0|   2.0|       1.0|   0.0|    9|1908|\n",
      "+--------+----+------+----------+------+-----+----+\n",
      "\n"
     ]
    }
   ],
   "source": [
    "from pyspark.sql import functions as F\n",
    "\n",
    "plane = plane.withColumn(\"Operator\", \n",
    "    F.when(F.col(\"Operator\").like(\"%Military%\"),F.lit(1)).otherwise(0))\n",
    "\n",
    "plane = plane.withColumn(\"Type\", \n",
    "    F.when(F.col(\"Type\").like(\"%airship%\"),F.lit(1)).otherwise(0))\n",
    "\n",
    "\n",
    "\n",
    "plane.dropDuplicates(['Operator','Type']).show()"
   ]
  },
  {
   "cell_type": "markdown",
   "id": "f3c23b9c",
   "metadata": {},
   "source": [
    "# Creating Models"
   ]
  },
  {
   "cell_type": "markdown",
   "id": "045c3842",
   "metadata": {},
   "source": [
    "## SLR"
   ]
  },
  {
   "cell_type": "code",
   "execution_count": 85,
   "id": "8d83d72f",
   "metadata": {},
   "outputs": [
    {
     "name": "stdout",
     "output_type": "stream",
     "text": [
      "+--------------------+----------+\n",
      "|     features_scaled|Fatalities|\n",
      "+--------------------+----------+\n",
      "|[0.00310559006211...|       1.0|\n",
      "|[0.00776397515527...|       5.0|\n",
      "|[0.00155279503105...|       1.0|\n",
      "|[0.03105590062111...|      14.0|\n",
      "|[0.04658385093167...|      30.0|\n",
      "|[0.06366459627329...|      21.0|\n",
      "|[0.02950310559006...|      19.0|\n",
      "|[0.03105590062111...|      20.0|\n",
      "|[0.03416149068322...|      22.0|\n",
      "|[0.02950310559006...|      19.0|\n",
      "|[0.04347826086956...|      27.0|\n",
      "|[0.03105590062111...|      20.0|\n",
      "|[0.03105590062111...|      20.0|\n",
      "|[0.03571428571428...|      23.0|\n",
      "|[0.03260869565217...|      21.0|\n",
      "|[0.03726708074534...|      24.0|\n",
      "|[0.02795031055900...|      18.0|\n",
      "|[0.02795031055900...|      18.0|\n",
      "|[0.03571428571428...|      23.0|\n",
      "|[0.03416149068322...|      22.0|\n",
      "+--------------------+----------+\n",
      "only showing top 20 rows\n",
      "\n"
     ]
    }
   ],
   "source": [
    "from pyspark.ml.feature import VectorAssembler\n",
    "vectorAssembler = VectorAssembler(inputCols = ['Aboard'], outputCol = 'features')\n",
    "plane_model = vectorAssembler.transform(plane)\n",
    "plane_model = MinMaxScaler(inputCol=\"features\", outputCol=\"features_scaled\").fit(plane_model).transform(plane_model)\n",
    "\n",
    "plane_model = plane_model.select(['features_scaled', 'Fatalities'])\n",
    "plane_model.show()"
   ]
  },
  {
   "cell_type": "markdown",
   "id": "c6e87ea7",
   "metadata": {},
   "source": [
    "## Splitting The Data"
   ]
  },
  {
   "cell_type": "code",
   "execution_count": 90,
   "id": "ffef6927",
   "metadata": {},
   "outputs": [],
   "source": [
    "split = plane_model.randomSplit([0.7, 0.3])\n",
    "train = split[0]\n",
    "test = split[1]"
   ]
  },
  {
   "cell_type": "markdown",
   "id": "58c85e2e",
   "metadata": {},
   "source": [
    "## Creating/Training SLR Model"
   ]
  },
  {
   "cell_type": "code",
   "execution_count": 92,
   "id": "2ccedf71",
   "metadata": {},
   "outputs": [
    {
     "name": "stdout",
     "output_type": "stream",
     "text": [
      "Coefficients: [386.3629671028221]\n",
      "Intercept: 3.6209244246808248\n"
     ]
    }
   ],
   "source": [
    "from pyspark.ml.regression import LinearRegression\n",
    "lr = LinearRegression(featuresCol = 'features_scaled', labelCol='Fatalities', maxIter=10, regParam=0.3, elasticNetParam=0.8)\n",
    "lr_model = lr.fit(train)\n",
    "print(\"Coefficients: \" + str(lr_model.coefficients))\n",
    "print(\"Intercept: \" + str(lr_model.intercept))"
   ]
  },
  {
   "cell_type": "markdown",
   "id": "8b6b6155",
   "metadata": {},
   "source": [
    "## Model Scores"
   ]
  },
  {
   "cell_type": "code",
   "execution_count": 93,
   "id": "9eb6635f",
   "metadata": {},
   "outputs": [
    {
     "name": "stdout",
     "output_type": "stream",
     "text": [
      "RMSE: 21.029072\n",
      "r2: 0.595967\n"
     ]
    }
   ],
   "source": [
    "trainingSummary = lr_model.summary\n",
    "print(\"RMSE: %f\" % trainingSummary.rootMeanSquaredError)\n",
    "print(\"r2: %f\" % trainingSummary.r2)"
   ]
  },
  {
   "cell_type": "markdown",
   "id": "2647db6a",
   "metadata": {},
   "source": [
    "## MLR"
   ]
  },
  {
   "cell_type": "code",
   "execution_count": 96,
   "id": "0fbebf61",
   "metadata": {},
   "outputs": [
    {
     "name": "stdout",
     "output_type": "stream",
     "text": [
      "+--------------------+----------+\n",
      "|            features|Fatalities|\n",
      "+--------------------+----------+\n",
      "|(7,[0,5,6],[2.0,9...|       1.0|\n",
      "|(7,[0,5,6],[5.0,7...|       5.0|\n",
      "|(7,[0,5,6],[1.0,8...|       1.0|\n",
      "|(7,[0,5,6],[20.0,...|      14.0|\n",
      "|(7,[0,5,6],[30.0,...|      30.0|\n",
      "|(7,[0,5,6],[41.0,...|      21.0|\n",
      "|(7,[0,5,6],[19.0,...|      19.0|\n",
      "|(7,[0,5,6],[20.0,...|      20.0|\n",
      "|(7,[0,5,6],[22.0,...|      22.0|\n",
      "|(7,[0,5,6],[19.0,...|      19.0|\n",
      "|(7,[0,5,6],[28.0,...|      27.0|\n",
      "|(7,[0,5,6],[20.0,...|      20.0|\n",
      "|(7,[0,5,6],[20.0,...|      20.0|\n",
      "|(7,[0,5,6],[23.0,...|      23.0|\n",
      "|(7,[0,5,6],[21.0,...|      21.0|\n",
      "|(7,[0,5,6],[24.0,...|      24.0|\n",
      "|(7,[0,5,6],[18.0,...|      18.0|\n",
      "|(7,[0,5,6],[18.0,...|      18.0|\n",
      "|(7,[0,5,6],[23.0,...|      23.0|\n",
      "|(7,[0,5,6],[22.0,...|      22.0|\n",
      "+--------------------+----------+\n",
      "only showing top 20 rows\n",
      "\n"
     ]
    }
   ],
   "source": [
    "from pyspark.ml.feature import VectorAssembler\n",
    "vectorAssembler = VectorAssembler(inputCols = ['Aboard','Operator','Type','Ground','Type','Month','Year'], outputCol = 'features')\n",
    "plane_model = vectorAssembler.transform(plane)\n",
    "plane_model = plane_model.select(['features', 'Fatalities'])\n",
    "plane_model.show()"
   ]
  },
  {
   "cell_type": "markdown",
   "id": "4bc2239c",
   "metadata": {},
   "source": [
    "## Splitting The Data"
   ]
  },
  {
   "cell_type": "code",
   "execution_count": 98,
   "id": "c691d54f",
   "metadata": {},
   "outputs": [],
   "source": [
    "splits = plane_model.randomSplit([0.7, 0.3])\n",
    "train = splits[0]\n",
    "test = splits[1]"
   ]
  },
  {
   "cell_type": "markdown",
   "id": "e21e620b",
   "metadata": {},
   "source": [
    "## Creating The Model"
   ]
  },
  {
   "cell_type": "code",
   "execution_count": 100,
   "id": "5b983001",
   "metadata": {},
   "outputs": [
    {
     "name": "stdout",
     "output_type": "stream",
     "text": [
      "Coefficients: [0.5694923946766118,0.0,0.0,0.007213912524682298,0.0,0.01225862254350313,0.0]\n",
      "Intercept: 4.296717756877984\n"
     ]
    }
   ],
   "source": [
    "from pyspark.ml.regression import LinearRegression\n",
    "lr = LinearRegression(featuresCol = 'features', labelCol='Fatalities', maxIter=10, regParam=0.3, elasticNetParam=0.8)\n",
    "lr_model = lr.fit(train)\n",
    "print(\"Coefficients: \" + str(lr_model.coefficients))\n",
    "print(\"Intercept: \" + str(lr_model.intercept))"
   ]
  },
  {
   "cell_type": "markdown",
   "id": "e1d157f8",
   "metadata": {},
   "source": [
    "## Model Scores"
   ]
  },
  {
   "cell_type": "code",
   "execution_count": 101,
   "id": "49cee338",
   "metadata": {},
   "outputs": [
    {
     "name": "stdout",
     "output_type": "stream",
     "text": [
      "RMSE: 21.576335\n",
      "r2: 0.562988\n"
     ]
    }
   ],
   "source": [
    "trainingSummary = lr_model.summary\n",
    "print(\"RMSE: %f\" % trainingSummary.rootMeanSquaredError)\n",
    "print(\"r2: %f\" % trainingSummary.r2)"
   ]
  }
 ],
 "metadata": {
  "kernelspec": {
   "display_name": "Python 3 (ipykernel)",
   "language": "python",
   "name": "python3"
  },
  "language_info": {
   "codemirror_mode": {
    "name": "ipython",
    "version": 3
   },
   "file_extension": ".py",
   "mimetype": "text/x-python",
   "name": "python",
   "nbconvert_exporter": "python",
   "pygments_lexer": "ipython3",
   "version": "3.9.12"
  }
 },
 "nbformat": 4,
 "nbformat_minor": 5
}
